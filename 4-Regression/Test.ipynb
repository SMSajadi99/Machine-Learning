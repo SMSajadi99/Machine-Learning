{
 "cells": [
  {
   "cell_type": "code",
   "execution_count": 4,
   "id": "323b369c",
   "metadata": {},
   "outputs": [
    {
     "name": "stdout",
     "output_type": "stream",
     "text": [
      "16588.0\n"
     ]
    }
   ],
   "source": [
    "import pandas as pd\n",
    "from sklearn import linear_model\n",
    "from sklearn.linear_model import LinearRegression\n",
    "\n",
    "data = {'Are':[50,100,75,200,125],'Year':[10,5,12,2,14],'Price':[500,1200,800,2000,1400]}\n",
    "df = pd.DataFrame(data)  \n",
    "\n",
    "X = df.values[:, 0:2]\n",
    "y = df.values[:, 2]\n",
    "\n",
    "\n",
    "model_ols =  linear_model.LinearRegression()\n",
    "model_ols.fit(X,y)\n",
    "\n",
    "sse = 0\n",
    "# y_hat = 10*X1 + 2*X2 +50\n",
    "for i in range(len(y)):\n",
    "    sse += 0.5*(10*X[i][0] + 2*X[i][1]+50-y[i])**2\n",
    "\n",
    "print(sse)"
   ]
  }
 ],
 "metadata": {
  "kernelspec": {
   "display_name": "Python 3 (ipykernel)",
   "language": "python",
   "name": "python3"
  },
  "language_info": {
   "codemirror_mode": {
    "name": "ipython",
    "version": 3
   },
   "file_extension": ".py",
   "mimetype": "text/x-python",
   "name": "python",
   "nbconvert_exporter": "python",
   "pygments_lexer": "ipython3",
   "version": "3.9.5"
  }
 },
 "nbformat": 4,
 "nbformat_minor": 5
}
